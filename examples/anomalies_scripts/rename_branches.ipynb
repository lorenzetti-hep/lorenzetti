{
 "cells": [
  {
   "cell_type": "code",
   "execution_count": null,
   "id": "67b7f3fd",
   "metadata": {},
   "outputs": [],
   "source": [
    "import ROOT\n",
    "import uproot"
   ]
  },
  {
   "cell_type": "code",
   "execution_count": null,
   "id": "e6ef0ba4",
   "metadata": {},
   "outputs": [],
   "source": [
    "# Open the original ROOT file in UPDATE mode, renames branches AND subbranches!\n",
    "file = ROOT.TFile('mb.HIT.9.root', \"UPDATE\")\n",
    "\n",
    "# Access the 'CollectionTree'\n",
    "tree = file.Get(\"CollectionTree\")\n",
    "\n",
    "# Access the branch you want to rename\n",
    "branch = tree.GetBranch(\"EventInfoContainer_Events\")\n",
    "\n",
    "# Rename the branch to the new name\n",
    "branch.SetName(\"EventInfoContainer_Events\")\n",
    "\n",
    "# Iterate through all subbranches of the selected branch and rename\n",
    "for subbranch in branch.GetListOfBranches():\n",
    "    # Get the current subbranch name\n",
    "    old_name = subbranch.GetName()\n",
    "    print(old_name)\n",
    "    \n",
    "    # Define the new name (example: add a prefix or change it as needed)\n",
    "    new_name = old_name.replace('_EventInfo', '_Events')\n",
    "    print(new_name)\n",
    "    \n",
    "    # Rename the subbranch\n",
    "    subbranch.SetName(new_name)\n",
    "\n",
    "# Save the file and close it\n",
    "file.Write(\"\", ROOT.TObject.kOverwrite)\n",
    "file.Close()\n"
   ]
  },
  {
   "cell_type": "code",
   "execution_count": null,
   "id": "e93aab2c",
   "metadata": {},
   "outputs": [],
   "source": []
  },
  {
   "cell_type": "code",
   "execution_count": null,
   "id": "57ef44d8",
   "metadata": {},
   "outputs": [],
   "source": [
    "# to check if it worked\n",
    "file = uproot.open('mb.HIT.9.root')\n",
    "# print(file.keys(), file.items())\n",
    "print(file['CollectionTree'].keys())"
   ]
  },
  {
   "cell_type": "code",
   "execution_count": null,
   "id": "976009cf",
   "metadata": {},
   "outputs": [],
   "source": []
  },
  {
   "cell_type": "code",
   "execution_count": null,
   "id": "b7494f34",
   "metadata": {},
   "outputs": [],
   "source": [
    "# OLD: ONLY renames branch and not subbranches\n",
    "# Open the original ROOT file in UPDATE mode\n",
    "file = ROOT.TFile('mb.HIT.9.root', \"UPDATE\")\n",
    "\n",
    "# Access the 'CollectionTree'\n",
    "tree = file.Get(\"CollectionTree\")\n",
    "\n",
    "# Access the branch you want to rename\n",
    "branch = tree.GetBranch(\"EventInfoContainer_Events\")\n",
    "\n",
    "# Rename the branch to the new name\n",
    "branch.SetName(\"EventInfoContainer_Events3\")\n",
    "\n",
    "# Write the tree with the renamed branch\n",
    "tree.Write(\"\", ROOT.TObject.kOverwrite)\n",
    "\n",
    "# Save and close the file\n",
    "file.Close()"
   ]
  },
  {
   "cell_type": "code",
   "execution_count": null,
   "id": "defd6130",
   "metadata": {},
   "outputs": [],
   "source": []
  },
  {
   "cell_type": "code",
   "execution_count": null,
   "id": "adc04f6b",
   "metadata": {},
   "outputs": [],
   "source": []
  },
  {
   "cell_type": "code",
   "execution_count": null,
   "id": "90e3deb1",
   "metadata": {},
   "outputs": [],
   "source": [
    "# just to check what files Juan shared etc\n",
    "import glob\n",
    "\n",
    "path = '/eos/user/j/jlieberm/lorenzetti/data/run/calibration/mb_merged'\n",
    "# Find all files that match the pattern\n",
    "file_list = glob.glob(f\"{path}/*.root\")\n",
    "print(file_list, file_list[-1])"
   ]
  }
 ],
 "metadata": {
  "@webio": {
   "lastCommId": null,
   "lastKernelId": null
  },
  "kernelspec": {
   "display_name": "Python 3",
   "language": "python",
   "name": "python3"
  },
  "language_info": {
   "codemirror_mode": {
    "name": "ipython",
    "version": 3
   },
   "file_extension": ".py",
   "mimetype": "text/x-python",
   "name": "python",
   "nbconvert_exporter": "python",
   "pygments_lexer": "ipython3",
   "version": "3.9.12"
  }
 },
 "nbformat": 4,
 "nbformat_minor": 5
}
